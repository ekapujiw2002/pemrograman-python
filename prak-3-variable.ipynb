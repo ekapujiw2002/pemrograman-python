{
 "cells": [
  {
   "cell_type": "markdown",
   "metadata": {},
   "source": [
    "# Praktikum 3 - Penerapan konsep variabel\n",
    "## Tujuan & Manfaat\n",
    "Pada praktikum 3 - Penerapan konsep variabel, mahasiswa diharapkan:\n",
    "   1. Mahasiswa mengerti syntax dasar pada python\n",
    "   2. Mahasiswa dapat menjalankan program python menggunakan IDE, maupun di command prompt atau terminal\n",
    "   3. Mahasiswa mengerti konsep variabel\n",
    "   4. Mahasiswa dapat menerapkan dalam program"
   ]
  },
  {
   "cell_type": "markdown",
   "metadata": {},
   "source": [
    "## Variabel\n",
    "Variabel adalah suatu pengenal (identifier) yang digunakan untuk mewakili suatu nilai tertentu di dalam proses program. Berbeda dengan konstanta yang nilainya selalu tetap, nilai\n",
    "dari suatu variable bisa diubah-ubah sesuai kebutuhan.\n",
    "\n",
    "Variabel secara umumnya dapat menyimpan berbagai macam tipe data. di dalam Python, variabel bersifat dinamis, yang artinya python tidak perlu dideklarasikan tipe data tertentu dan variabel python dapat diuaah saat program dijalankan.\n",
    "\n",
    "nama dari suatu variabel dapat ditentukan sendiri oleh pemrogram dengan aturan sebagai berikut:\n",
    "\n",
    "1. Terdiri dari gabungan huruf dan angka dengan karakter pertama harus berupa huruf. Bahasa python bersifat case-sensitive artinya huruf besar dan kecil dianggap berbeda. Jadi antara nama,Nama dan NaMa dianggap berbeda.\n",
    "2. Karakter pertama harus berupa huruf atau garis bawah atau underscore `_` karakter selanjutnya dapat berupa huruf, garis bawah atau angka\n",
    "\n",
    "dalam penulisan variabel pada python, cukup menuliskan variabel lalu mengisikannya dengan nilai ditambahkan dengan tanda sama dengan `=` diikuti dengan nilai untuk variabel tersebut.\n",
    "\n",
    "Berikut penggunaan variabel dalam bahasa pemrograman python"
   ]
  },
  {
   "cell_type": "code",
   "execution_count": 1,
   "metadata": {},
   "outputs": [
    {
     "name": "stdout",
     "output_type": "stream",
     "text": [
      "Budi Bae\n",
      "21\n",
      "<class 'int'>\n",
      "dua puluh satu\n",
      "<class 'str'>\n",
      "Profil\n",
      " Monkey D. Luffy \n",
      " 19 \n",
      " Makan\n",
      "1 2 3 4 5 6 7 8\n",
      "2500 2500 2500 2500 2500\n"
     ]
    }
   ],
   "source": [
    "#memasukkan data dalam sebuah variabel\n",
    "name = \"Budi Bae\" #isi variabel berupa string\n",
    "print(name) #mencetak variabel\n",
    "\n",
    "#nilai dan tipe data dalam variabel\n",
    "age = 21 #tipe data angka / numeric\n",
    "print(age) #mencetak nilai age\n",
    "print(type(age)) #melihat tipe data dari age\n",
    "age = \"dua puluh satu\" #tipe data string\n",
    "print(age) #mencetak string dari age\n",
    "print(type(age)) #melihat tipe data\n",
    "\n",
    "first_name = \"Monkey\"\n",
    "middle_name = \"D.\"\n",
    "last_name = \"Luffy\"\n",
    "name = first_name+\" \"+middle_name+\" \"+last_name\n",
    "age = 19\n",
    "hobby = \"Makan\"\n",
    "print(\"Profil\\n\",name,\"\\n\",age,\"\\n\",hobby)\n",
    "\n",
    "#contoh variabel lainnya\n",
    "age = 1\n",
    "Age = 2\n",
    "aGe = 3\n",
    "AGE = 4\n",
    "a_g_e = 5\n",
    "_age = 6\n",
    "age_ = 7\n",
    "_AGE_ = 8\n",
    "print(age, Age, aGe, AGE, a_g_e, _age, age_, _AGE_) #mencetak variabel\n",
    "\n",
    "numberofcollegegraduates = 2500\n",
    "NUMBEROFCOLLEGEGRADUATES = 2500\n",
    "numberOfCollegeGraduates = 2500\n",
    "NumberOfCollegeGraduates = 2500\n",
    "number_of_college_graduates = 2500\n",
    "#mencetak variabel\n",
    "print(numberofcollegegraduates, NUMBEROFCOLLEGEGRADUATES,numberOfCollegeGraduates, NumberOfCollegeGraduates, number_of_college_graduates)"
   ]
  },
  {
   "cell_type": "markdown",
   "metadata": {},
   "source": [
    "## Latihan\n",
    "**Catatan:** gunakan **python versi 3.x** atau di atas nya\n",
    "1. Jalankan program di atas di komputer anda, menggunakan pycharm, jupyter-notebook, jupyter-lab atau google colab\n",
    "2. Buatlah program menggunakan variable, \n",
    "dengan variabel yang mendeskripsikan biodata anda, misalkan\n",
    "\n",
    "```\n",
    "# biodata\n",
    "deskripsi =\"ini program python\"\n",
    "nama = \"Budi Bae\"\n",
    "alamat = \"Palembang\"\n",
    "umur = 20\n",
    "hobi = \"makan\"\n",
    "```\n",
    "    dengan output sebagai berikut:\n",
    "    \n",
    "```\n",
    "Nama saya Budi Bae yang beralamat di Palembang, umur sekarang 20 tahun dan memiliki hobi makan\n",
    "```\n",
    "\n",
    "```\n",
    "# menghitung luas & keliling persegi panjang\n",
    "panjang = 15\n",
    "lebar = 5.7\n",
    "keliling_persegi_panjang = panjang*lebar\n",
    "lebar_persegi_panjang = 2*(panjang+lebar)\n",
    "```\n",
    "    dengan output sebagai berikut:\n",
    "    \n",
    "```\n",
    "Sebuah persegi panjang memiliki panjang 15 cm, lebar 5.7 cm dan memiliki luas sebesar 85.5 cm dan keliling 41.4 cm\n",
    "```"
   ]
  },
  {
   "cell_type": "markdown",
   "metadata": {},
   "source": [
    "### Format Laporan Praktikum\n",
    "1. Buatlah laporan program nomor 1 dan nomor 2, dengan menggunakan pycharm, jupyter-lab, atau jupyter-notebook, dengan format laporan menampilkan \n",
    "    - Pendahuluan\n",
    "    - Tujuan dan manfaat\n",
    "    - Program\n",
    "    - Analisis program\n",
    "    - Referensi\n",
    "2. Upload file laporan praktikum kalian ke google classroom dengan format nama file **nim_anda_praktikum-3.pdf** -> **09081001009_praktikum-3.pdf**\n",
    "\n",
    "## Referensi :\n",
    "1. Real Python - https://realpython.com\n",
    "2. Belajar Python - Situs Open Source Tutorial Pemrograman Python Bahasa Indonesia - https://belajarpython.com\n",
    "3. Modul Praktikum Algoritma dan pemrograman I - Fakultas Ilmu Komputer Universitas Sriwijaya\n"
   ]
  }
 ],
 "metadata": {
  "kernelspec": {
   "display_name": "Python 3",
   "language": "python",
   "name": "python3"
  },
  "language_info": {
   "codemirror_mode": {
    "name": "ipython",
    "version": 3
   },
   "file_extension": ".py",
   "mimetype": "text/x-python",
   "name": "python",
   "nbconvert_exporter": "python",
   "pygments_lexer": "ipython3",
   "version": "3.7.6"
  }
 },
 "nbformat": 4,
 "nbformat_minor": 2
}
