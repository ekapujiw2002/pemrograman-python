{
 "cells": [
  {
   "cell_type": "markdown",
   "metadata": {},
   "source": [
    "# Tugas Mandiri - Praktikum Algoritma & Pemrograman\n",
    "\n",
    "Silahkan anda kerjakan tugas mandiri sebagai berikut:\n",
    "1. Buat program dengan menampilkan sebuah permainan: Gunting, Batu, Kertas. seperti pada output video berikut (klik play button video tersebut):\n",
    "\n",
    "[![asciicast](https://asciinema.org/a/e8P0MH8rpfZWhjmtXqhTyY7ow.svg)](https://asciinema.org/a/e8P0MH8rpfZWhjmtXqhTyY7ow)\n",
    "\n",
    "\n",
    "2. Buat program "
   ]
  }
 ],
 "metadata": {
  "kernelspec": {
   "display_name": "Python 3",
   "language": "python",
   "name": "python3"
  },
  "language_info": {
   "codemirror_mode": {
    "name": "ipython",
    "version": 3
   },
   "file_extension": ".py",
   "mimetype": "text/x-python",
   "name": "python",
   "nbconvert_exporter": "python",
   "pygments_lexer": "ipython3",
   "version": "3.7.6"
  }
 },
 "nbformat": 4,
 "nbformat_minor": 2
}
