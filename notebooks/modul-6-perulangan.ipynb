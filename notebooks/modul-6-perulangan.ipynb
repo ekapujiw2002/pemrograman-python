{
 "cells": [
  {
   "cell_type": "markdown",
   "metadata": {},
   "source": [
    "# Praktikum 6 - Perulangan\n",
    "## Tujuan & Manfaat\n",
    "Pada praktikum 6 - Kondisi, mahasiswa diharapkan:\n",
    "   1. Mahasiswa mengerti syntax operator pada python\n",
    "   2. Mahasiswa dapat menjalankan program python menggunakan IDE, maupun di command prompt atau terminal\n",
    "   3. Mahasiswa mengerti konsep setiap perulangan,while loop, for loop, nested loop\n",
    "   4. Mahasiswa dapat menerapkan dalam program"
   ]
  },
  {
   "cell_type": "markdown",
   "metadata": {},
   "source": [
    "Secara umum, pernyataan pada bahasa pemrograman akan dieksekusi secara berurutan. Pernyataan pertama dalam sebuah fungsi dijalankan pertama, diikuti oleh yang kedua, dan seterusnya. Tetapi akan ada situasi dimana Anda harus menulis banyak kode, dimana kode tersebut sangat banyak. Jika dilakukan secara manual maka Anda hanya akan membuang-buang tenaga dengan menulis beratus-ratus bahkan beribu-ribu kode. Untuk itu Anda perlu menggunakan pengulangan di dalam bahasa pemrograman Python.\n",
    "\n",
    "Di dalam bahasa pemrograman Python pengulangan dibagi menjadi 3 bagian, yaitu :\n",
    "\n",
    "- While Loop\n",
    "- For Loop\n",
    "- Nested Loop"
   ]
  },
  {
   "cell_type": "markdown",
   "metadata": {},
   "source": [
    "### While Loop\n",
    "\n",
    "Pengulangan While Loop di dalam bahasa pemrograman Python dieksesusi statement berkali-kali selama kondisi bernilai benar atau `True`.\n",
    "\n",
    "Dibawah ini adalah contoh penggunaan pengulangan `While Loop`"
   ]
  },
  {
   "cell_type": "code",
   "execution_count": 1,
   "metadata": {},
   "outputs": [
    {
     "name": "stdout",
     "output_type": "stream",
     "text": [
      "The count is:  0\n",
      "The count is:  1\n",
      "The count is:  2\n",
      "The count is:  3\n",
      "The count is:  4\n",
      "The count is:  5\n",
      "The count is:  6\n",
      "The count is:  7\n",
      "The count is:  8\n",
      "Good bye!\n"
     ]
    }
   ],
   "source": [
    "#Contoh penggunaan While Loop\n",
    "\n",
    "count = 0\n",
    "while (count < 9):\n",
    "    print (\"The count is: \", count)\n",
    "    count = count + 1\n",
    "\n",
    "print (\"Good bye!\")"
   ]
  },
  {
   "cell_type": "markdown",
   "metadata": {},
   "source": [
    "### For Loop\n",
    "\n",
    "Pengulangan `for` pada Python memiliki kemampuan untuk mengulangi item dari urutan apapun, seperti `list` atau `string`.\n",
    "\n",
    "Dibawah ini adalah contoh penggunaan pengulangan For Loop."
   ]
  },
  {
   "cell_type": "code",
   "execution_count": 2,
   "metadata": {},
   "outputs": [
    {
     "name": "stdout",
     "output_type": "stream",
     "text": [
      "1\n",
      "2\n",
      "3\n",
      "4\n",
      "5\n",
      "Saya suka makan nanas\n",
      "Saya suka makan apel\n",
      "Saya suka makan jeruk\n"
     ]
    }
   ],
   "source": [
    "#Contoh pengulangan for sederhana\n",
    "angka = [1,2,3,4,5]\n",
    "for x in angka:\n",
    "    print(x)\n",
    "\n",
    "#Contoh pengulangan for\n",
    "buah = [\"nanas\", \"apel\", \"jeruk\"]\n",
    "for makanan in buah:\n",
    "    print (\"Saya suka makan\", makanan)"
   ]
  },
  {
   "cell_type": "markdown",
   "metadata": {},
   "source": [
    "### Nested Loop\n",
    "\n",
    "Bahasa pemrograman Python memungkinkan penggunaan satu lingkaran di dalam loop lain. Bagian berikut menunjukkan beberapa contoh untuk menggambarkan konsep tersebut. \n",
    "\n",
    "Dibawah ini adalah contoh penggunaan Nested Loop."
   ]
  },
  {
   "cell_type": "code",
   "execution_count": 3,
   "metadata": {},
   "outputs": [
    {
     "name": "stdout",
     "output_type": "stream",
     "text": [
      "2  is prime\n",
      "3  is prime\n",
      "5  is prime\n",
      "7  is prime\n",
      "11  is prime\n",
      "13  is prime\n",
      "17  is prime\n",
      "19  is prime\n",
      "23  is prime\n",
      "29  is prime\n",
      "31  is prime\n",
      "37  is prime\n",
      "41  is prime\n",
      "43  is prime\n",
      "47  is prime\n",
      "53  is prime\n",
      "59  is prime\n",
      "61  is prime\n",
      "67  is prime\n",
      "71  is prime\n",
      "73  is prime\n",
      "79  is prime\n",
      "83  is prime\n",
      "89  is prime\n",
      "97  is prime\n",
      "Good bye!\n"
     ]
    }
   ],
   "source": [
    "#Contoh penggunaan Nested Loop\n",
    "\n",
    "i = 2\n",
    "while(i < 100):\n",
    "    j = 2\n",
    "    while(j <= (i/j)):\n",
    "        if not(i%j): break\n",
    "        j = j + 1\n",
    "    if (j > i/j) : print(i, \" is prime\")\n",
    "    i = i + 1\n",
    "\n",
    "print(\"Good bye!\")"
   ]
  },
  {
   "cell_type": "markdown",
   "metadata": {},
   "source": [
    "## Latihan\n",
    "**Catatan:** gunakan **python versi 3.x** atau di atas nya\n",
    "1. Jalankan program di atas di komputer anda, menggunakan pycharm, jupyter-notebook, jupyter-lab atau google colab\n",
    "2. Buatlah program menggunakan pengkondisian (if..else..elif) dengan skenario sebagai berikut:\n",
    "    \n",
    "    a. **Program 1**; Program python untuk melakukan pengecekan apakah segitiga tersebut merupakan `segitiga sama sisi (Equilateral Triangle)`, `segitiga sama kaki (Isosceles triangle)`, atau `segitiga sembarang (scalene triangle)`\n",
    "    ![jenis-segitiga](img/segitiga.png)\n",
    "    \n",
    "    Buatlah dengan output program seperti gambar di bawah:\n",
    "    - Jika nilai masukkan terdiri dari x, y dan z memiliki nilai sama, maka akan diputuskan bahwa adalah segitiga sama sisi\n",
    "    ![segitiga-samasisi](img/segitiga-1.png)\n",
    "    - Jika nilai masukkan terdiri dari (x, y) atau (x,z) atau (y,z) dalam kondisi memiliki nilai yang sama, maka akan diputuskan bahwa adalah segitiga sama kaki\n",
    "    ![segitiga-samakaki](img/segitiga-2.png)\n",
    "    - Jika nilai masukkan terdiri dari x, y dan z memiliki nilai yang tidak sama, maka akan diputuskan bahwa adalah segitiga sembarang\n",
    "    ![segitiga-sembarang](img/segitiga-3.png)\n",
    "    \n",
    "      b. **Program 2**; Program python untuk melakukan pengecekan apakah tahun yang kita inisialisasikan merupakan tahun kabisat atau tidak. berikut output program pengecekan tahun kabisat (tahun 2019,2020)\n",
    "    ![tahun-kabisat](img/tahun-kabisat.png)\n",
    "    ![tahun-kabisat](img/tahun-kabisat-2.png)\n",
    "    \n",
    "      c. **Program 3**; Program python untuk mendeteksi zodiak/astrologi yunani dari tanggal dan bulan lahir anda.\n",
    "    ![zodiak](img/zodiak-1.png)\n",
    "    ![zodiak](img/zodiak-2.png)\n",
    "    ![zodiak](img/zodiak-3.png)\n",
    "    \n",
    "      d. **Program 4**; Program python untuk mendeteksi zodiak/astrologi cina dari tahun lahir anda.\n",
    "    ![zodiak-cina](img/zodiak-cina.png)\n",
    "    ![zodiak-cina](img/zodiak-cina-2.png)"
   ]
  },
  {
   "cell_type": "markdown",
   "metadata": {},
   "source": [
    "### Format Laporan Praktikum\n",
    "1. Buatlah laporan program nomor 2, dengan menggunakan pycharm, jupyter-lab, atau jupyter-notebook, dengan format laporan menampilkan \n",
    "    - Pendahuluan\n",
    "    - Tujuan dan manfaat\n",
    "    - Program\n",
    "    - Analisis program\n",
    "    - Referensi\n",
    "2. Upload file laporan praktikum kalian ke google classroom dengan format nama file **nim_anda_praktikum-5.pdf** -> **09081001009_praktikum-5.pdf**\n",
    "\n",
    "## Referensi :\n",
    "1. Real Python - https://realpython.com\n"
   ]
  }
 ],
 "metadata": {
  "kernelspec": {
   "display_name": "Python 3",
   "language": "python",
   "name": "python3"
  },
  "language_info": {
   "codemirror_mode": {
    "name": "ipython",
    "version": 3
   },
   "file_extension": ".py",
   "mimetype": "text/x-python",
   "name": "python",
   "nbconvert_exporter": "python",
   "pygments_lexer": "ipython3",
   "version": "3.7.6"
  }
 },
 "nbformat": 4,
 "nbformat_minor": 2
}
