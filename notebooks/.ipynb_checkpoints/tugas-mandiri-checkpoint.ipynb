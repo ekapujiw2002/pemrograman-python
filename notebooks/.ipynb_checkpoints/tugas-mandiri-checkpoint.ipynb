{
 "cells": [
  {
   "cell_type": "markdown",
   "metadata": {},
   "source": [
    "# Tugas Mandiri - Praktikum Algoritma & Pemrograman\n",
    "\n",
    "Silahkan anda kerjakan tugas mandiri sebagai berikut:\n",
    "1. Buat program dengan menampilkan sebuah permainan: Gunting, Batu, Kertas. seperti pada output berikut:\n",
    "<!-- blank line -->\n",
    "<figure class=\"video_container\">\n",
    "  <video controls=\"true\" allowfullscreen=\"true\" poster=\"path/to/poster_image.png\">\n",
    "    <source src=\"videos/gunting_batu_kertas.mp4\" type=\"video/mp4\">\n",
    "  </video>\n",
    "</figure>\n",
    "<!-- blank line -->\n",
    "\n",
    "2. Buat program "
   ]
  }
 ],
 "metadata": {
  "kernelspec": {
   "display_name": "Python 3",
   "language": "python",
   "name": "python3"
  },
  "language_info": {
   "codemirror_mode": {
    "name": "ipython",
    "version": 3
   },
   "file_extension": ".py",
   "mimetype": "text/x-python",
   "name": "python",
   "nbconvert_exporter": "python",
   "pygments_lexer": "ipython3",
   "version": "3.7.6"
  }
 },
 "nbformat": 4,
 "nbformat_minor": 2
}
